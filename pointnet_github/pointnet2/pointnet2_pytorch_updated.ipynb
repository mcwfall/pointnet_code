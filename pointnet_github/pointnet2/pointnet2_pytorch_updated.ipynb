{
  "cells": [
    {
      "cell_type": "code",
      "execution_count": null,
      "metadata": {
        "id": "aGqO4nQDVa3T"
      },
      "outputs": [],
      "source": [
        "import os\n",
        "import glob\n",
        "import numpy as np\n",
        "import tensorflow as tf\n",
        "from tensorflow import keras\n",
        "from tensorflow.keras import layers\n",
        "from matplotlib import pyplot as plt\n",
        "tf.random.set_seed(1234)\n",
        "from sklearn.model_selection import train_test_split"
      ]
    },
    {
      "cell_type": "code",
      "execution_count": null,
      "metadata": {
        "id": "9bVOk-HHaeYx"
      },
      "outputs": [],
      "source": [
        "import pandas as pd"
      ]
    },
    {
      "cell_type": "code",
      "source": [
        "import torch\n",
        "\n",
        "if torch.cuda.is_available():\n",
        "    device = torch.device(\"cuda\")\n",
        "    print(\"GPU is available and recognized.\")\n",
        "    print(\"Current GPU:\", torch.cuda.get_device_name(0))\n",
        "else:\n",
        "    device = torch.device(\"cpu\")\n",
        "    print(\"No GPU available; using CPU.\")"
      ],
      "metadata": {
        "colab": {
          "base_uri": "https://localhost:8080/"
        },
        "id": "DDXZkUhj--WW",
        "outputId": "df2bc6f8-2006-432f-abc1-e1da8cb080ea"
      },
      "execution_count": null,
      "outputs": [
        {
          "output_type": "stream",
          "name": "stdout",
          "text": [
            "GPU is available and recognized.\n",
            "Current GPU: Tesla T4\n"
          ]
        }
      ]
    },
    {
      "cell_type": "code",
      "execution_count": null,
      "metadata": {
        "colab": {
          "base_uri": "https://localhost:8080/"
        },
        "id": "vEQZjKxQagJ9",
        "outputId": "6c4d6e49-800f-41d8-a3a1-d32dd1c6514f"
      },
      "outputs": [
        {
          "output_type": "stream",
          "name": "stdout",
          "text": [
            "['/content/drive/MyDrive/data_real/falling/falling84.csv', '/content/drive/MyDrive/data_real/falling/falling99.csv', '/content/drive/MyDrive/data_real/falling/falling89.csv', '/content/drive/MyDrive/data_real/falling/falling103.csv', '/content/drive/MyDrive/data_real/falling/falling139.csv', '/content/drive/MyDrive/data_real/falling/falling132.csv', '/content/drive/MyDrive/data_real/falling/falling33.csv', '/content/drive/MyDrive/data_real/falling/falling92.csv', '/content/drive/MyDrive/data_real/falling/falling70.csv', '/content/drive/MyDrive/data_real/falling/falling76.csv', '/content/drive/MyDrive/data_real/falling/falling126.csv', '/content/drive/MyDrive/data_real/falling/falling41.csv', '/content/drive/MyDrive/data_real/falling/falling49.csv', '/content/drive/MyDrive/data_real/falling/falling3.csv', '/content/drive/MyDrive/data_real/falling/falling86.csv', '/content/drive/MyDrive/data_real/falling/falling77.csv', '/content/drive/MyDrive/data_real/falling/falling138.csv', '/content/drive/MyDrive/data_real/falling/falling65.csv', '/content/drive/MyDrive/data_real/falling/falling143.csv', '/content/drive/MyDrive/data_real/falling/falling78.csv', '/content/drive/MyDrive/data_real/falling/falling134.csv', '/content/drive/MyDrive/data_real/falling/falling19.csv', '/content/drive/MyDrive/data_real/falling/falling87.csv', '/content/drive/MyDrive/data_real/falling/falling18.csv', '/content/drive/MyDrive/data_real/falling/falling125.csv', '/content/drive/MyDrive/data_real/falling/falling128.csv', '/content/drive/MyDrive/data_real/falling/falling63.csv', '/content/drive/MyDrive/data_real/falling/falling67.csv', '/content/drive/MyDrive/data_real/falling/falling72.csv', '/content/drive/MyDrive/data_real/falling/falling88.csv', '/content/drive/MyDrive/data_real/falling/falling82.csv', '/content/drive/MyDrive/data_real/falling/falling75.csv', '/content/drive/MyDrive/data_real/falling/falling30.csv', '/content/drive/MyDrive/data_real/falling/falling44.csv', '/content/drive/MyDrive/data_real/falling/falling71.csv', '/content/drive/MyDrive/data_real/falling/falling38.csv', '/content/drive/MyDrive/data_real/falling/falling21.csv', '/content/drive/MyDrive/data_real/falling/falling144.csv', '/content/drive/MyDrive/data_real/falling/falling80.csv', '/content/drive/MyDrive/data_real/falling/falling111.csv', '/content/drive/MyDrive/data_real/falling/falling142.csv', '/content/drive/MyDrive/data_real/falling/falling16.csv', '/content/drive/MyDrive/data_real/falling/falling58.csv', '/content/drive/MyDrive/data_real/falling/falling39.csv', '/content/drive/MyDrive/data_real/falling/falling141.csv', '/content/drive/MyDrive/data_real/falling/falling79.csv', '/content/drive/MyDrive/data_real/falling/falling46.csv', '/content/drive/MyDrive/data_real/falling/falling131.csv', '/content/drive/MyDrive/data_real/falling/falling69.csv', '/content/drive/MyDrive/data_real/falling/falling94.csv', '/content/drive/MyDrive/data_real/falling/falling50.csv', '/content/drive/MyDrive/data_real/falling/falling124.csv', '/content/drive/MyDrive/data_real/falling/falling118.csv', '/content/drive/MyDrive/data_real/falling/falling130.csv', '/content/drive/MyDrive/data_real/falling/falling113.csv', '/content/drive/MyDrive/data_real/falling/falling60.csv', '/content/drive/MyDrive/data_real/falling/falling140.csv', '/content/drive/MyDrive/data_real/falling/falling83.csv', '/content/drive/MyDrive/data_real/falling/falling20.csv', '/content/drive/MyDrive/data_real/falling/falling12.csv', '/content/drive/MyDrive/data_real/falling/falling95.csv', '/content/drive/MyDrive/data_real/falling/falling85.csv', '/content/drive/MyDrive/data_real/falling/falling73.csv', '/content/drive/MyDrive/data_real/falling/falling13.csv', '/content/drive/MyDrive/data_real/falling/falling135.csv', '/content/drive/MyDrive/data_real/falling/falling114.csv', '/content/drive/MyDrive/data_real/falling/falling52.csv', '/content/drive/MyDrive/data_real/falling/falling42.csv', '/content/drive/MyDrive/data_real/falling/falling28.csv', '/content/drive/MyDrive/data_real/falling/falling137.csv', '/content/drive/MyDrive/data_real/falling/falling1.csv', '/content/drive/MyDrive/data_real/falling/falling56.csv', '/content/drive/MyDrive/data_real/falling/falling64.csv', '/content/drive/MyDrive/data_real/falling/falling74.csv', '/content/drive/MyDrive/data_real/falling/falling101.csv', '/content/drive/MyDrive/data_real/falling/falling53.csv', '/content/drive/MyDrive/data_real/falling/falling15.csv', '/content/drive/MyDrive/data_real/falling/falling61.csv', '/content/drive/MyDrive/data_real/falling/falling122.csv', '/content/drive/MyDrive/data_real/falling/falling48.csv', '/content/drive/MyDrive/data_real/falling/falling59.csv', '/content/drive/MyDrive/data_real/falling/falling35.csv', '/content/drive/MyDrive/data_real/falling/falling109.csv', '/content/drive/MyDrive/data_real/falling/falling47.csv', '/content/drive/MyDrive/data_real/falling/falling104.csv', '/content/drive/MyDrive/data_real/falling/falling81.csv', '/content/drive/MyDrive/data_real/falling/falling129.csv', '/content/drive/MyDrive/data_real/falling/falling25.csv', '/content/drive/MyDrive/data_real/falling/falling110.csv', '/content/drive/MyDrive/data_real/falling/falling112.csv', '/content/drive/MyDrive/data_real/falling/falling11.csv', '/content/drive/MyDrive/data_real/falling/falling8.csv', '/content/drive/MyDrive/data_real/falling/falling26.csv', '/content/drive/MyDrive/data_real/falling/falling119.csv', '/content/drive/MyDrive/data_real/falling/falling62.csv', '/content/drive/MyDrive/data_real/falling/falling68.csv', '/content/drive/MyDrive/data_real/falling/falling121.csv', '/content/drive/MyDrive/data_real/falling/falling9.csv', '/content/drive/MyDrive/data_real/falling/falling91.csv', '/content/drive/MyDrive/data_real/falling/falling97.csv', '/content/drive/MyDrive/data_real/falling/falling2.csv', '/content/drive/MyDrive/data_real/falling/falling55.csv', '/content/drive/MyDrive/data_real/falling/falling14.csv', '/content/drive/MyDrive/data_real/falling/falling40.csv', '/content/drive/MyDrive/data_real/falling/falling117.csv', '/content/drive/MyDrive/data_real/falling/falling145.csv', '/content/drive/MyDrive/data_real/falling/falling37.csv', '/content/drive/MyDrive/data_real/falling/falling51.csv', '/content/drive/MyDrive/data_real/falling/falling17.csv', '/content/drive/MyDrive/data_real/falling/falling27.csv', '/content/drive/MyDrive/data_real/falling/falling32.csv', '/content/drive/MyDrive/data_real/falling/falling107.csv', '/content/drive/MyDrive/data_real/falling/falling98.csv', '/content/drive/MyDrive/data_real/falling/falling24.csv', '/content/drive/MyDrive/data_real/falling/falling34.csv', '/content/drive/MyDrive/data_real/falling/falling66.csv', '/content/drive/MyDrive/data_real/falling/falling7.csv', '/content/drive/MyDrive/data_real/falling/falling93.csv', '/content/drive/MyDrive/data_real/falling/falling108.csv', '/content/drive/MyDrive/data_real/falling/falling6.csv', '/content/drive/MyDrive/data_real/falling/falling116.csv', '/content/drive/MyDrive/data_real/falling/falling45.csv', '/content/drive/MyDrive/data_real/falling/falling120.csv', '/content/drive/MyDrive/data_real/falling/falling36.csv', '/content/drive/MyDrive/data_real/falling/falling90.csv', '/content/drive/MyDrive/data_real/falling/falling10.csv', '/content/drive/MyDrive/data_real/falling/falling105.csv', '/content/drive/MyDrive/data_real/falling/falling115.csv', '/content/drive/MyDrive/data_real/falling/falling136.csv', '/content/drive/MyDrive/data_real/falling/falling29.csv', '/content/drive/MyDrive/data_real/falling/falling43.csv', '/content/drive/MyDrive/data_real/falling/falling31.csv', '/content/drive/MyDrive/data_real/falling/falling22.csv', '/content/drive/MyDrive/data_real/falling/falling133.csv', '/content/drive/MyDrive/data_real/falling/falling106.csv', '/content/drive/MyDrive/data_real/falling/falling5.csv', '/content/drive/MyDrive/data_real/falling/falling96.csv', '/content/drive/MyDrive/data_real/falling/falling57.csv', '/content/drive/MyDrive/data_real/falling/falling100.csv', '/content/drive/MyDrive/data_real/falling/falling4.csv', '/content/drive/MyDrive/data_real/falling/falling102.csv', '/content/drive/MyDrive/data_real/falling/falling54.csv', '/content/drive/MyDrive/data_real/falling/falling23.csv', '/content/drive/MyDrive/data_real/falling/falling127.csv', '/content/drive/MyDrive/data_real/falling/falling123.csv']\n"
          ]
        }
      ],
      "source": [
        "import glob\n",
        "\n",
        "folder_path = \"/content/drive/MyDrive/data_real/falling\"  # Replace with the actual path to your folder\n",
        "\n",
        "# Use glob to get a list of all files in the folder\n",
        "files = glob.glob(folder_path + \"/*\")\n",
        "\n",
        "# Now, the 'files' variable contains a list of file paths in the specified folder\n",
        "print(files)\n"
      ]
    },
    {
      "cell_type": "code",
      "execution_count": null,
      "metadata": {
        "id": "DMuIfLR5alTt"
      },
      "outputs": [],
      "source": [
        "def parse_dataset(num_points=400):\n",
        "    train_points = []\n",
        "    train_labels = []\n",
        "    class_map = {}\n",
        "    folder_path = \"/content/drive/MyDrive/data_real\"\n",
        "    folders = glob.glob(folder_path + \"/*\")\n",
        "\n",
        "    for i, folder in enumerate(folders):\n",
        "        print(\"processing class: {}\".format(os.path.basename(folder)))\n",
        "        # store folder name with ID so we can retrieve later\n",
        "        class_map[i] = os.path.basename(folder)\n",
        "        # gather all files\n",
        "        train_files = glob.glob(os.path.join(folder_path, folder) + \"/*\")\n",
        "\n",
        "        for f in train_files:\n",
        "            # Read the CSV file\n",
        "            df = pd.read_csv(f)\n",
        "            # Check if the number of points in the file is at least min_points\n",
        "            if len(df) >= num_points:\n",
        "                # Use the random indices to select min_points random rows from the original array\n",
        "                train_points.append(df.set_index('Unnamed: 0').sample(num_points).values)\n",
        "                train_labels.append(i)\n",
        "\n",
        "    return (\n",
        "        np.array(train_points),\n",
        "        np.array(train_labels),\n",
        "        class_map,\n",
        "    )"
      ]
    },
    {
      "cell_type": "code",
      "source": [
        "from google.colab import drive\n",
        "drive.mount('/content/drive')"
      ],
      "metadata": {
        "colab": {
          "base_uri": "https://localhost:8080/"
        },
        "id": "cL-1CylyBE5G",
        "outputId": "f5bb2b56-33f1-4288-b3f5-1c452953ae59"
      },
      "execution_count": null,
      "outputs": [
        {
          "output_type": "stream",
          "name": "stdout",
          "text": [
            "Drive already mounted at /content/drive; to attempt to forcibly remount, call drive.mount(\"/content/drive\", force_remount=True).\n"
          ]
        }
      ]
    },
    {
      "cell_type": "code",
      "execution_count": null,
      "metadata": {
        "colab": {
          "base_uri": "https://localhost:8080/"
        },
        "id": "A5K42y9fawAC",
        "outputId": "ef6dc276-2cc1-4ce2-a59c-281964a3014a"
      },
      "outputs": [
        {
          "output_type": "stream",
          "name": "stdout",
          "text": [
            "processing class: standing\n",
            "processing class: falling\n",
            "processing class: sitting\n",
            "processing class: lying_down\n"
          ]
        }
      ],
      "source": [
        "NUM_POINTS = 400\n",
        "NUM_CLASSES = 4\n",
        "BATCH_SIZE = 1\n",
        "train_points,train_labels,class_map = parse_dataset(NUM_POINTS)\n",
        "train_points,test_points,train_labels,test_labels=train_test_split(train_points,train_labels,test_size=0.2,random_state=42)\n",
        "data_train, data_val, labels_train, labels_val = train_test_split(train_points, train_labels, test_size=0.3, random_state=42)"
      ]
    },
    {
      "cell_type": "code",
      "source": [],
      "metadata": {
        "id": "ctqrFWQAueL-"
      },
      "execution_count": null,
      "outputs": []
    },
    {
      "cell_type": "code",
      "execution_count": null,
      "metadata": {
        "id": "gL-53TQeayAO"
      },
      "outputs": [],
      "source": [
        "import sys\n",
        "sys.path.append('/content/drive/MyDrive/data')\n"
      ]
    },
    {
      "cell_type": "code",
      "execution_count": null,
      "metadata": {
        "id": "RrYPFgy4bAma"
      },
      "outputs": [],
      "source": [
        "import torch.nn as nn\n",
        "import torch.nn.functional as F\n"
      ]
    },
    {
      "cell_type": "code",
      "execution_count": null,
      "metadata": {
        "id": "ICeq_sGIbG-K"
      },
      "outputs": [],
      "source": [
        "import torch\n",
        "\n",
        "from time import time\n",
        "import numpy as np\n",
        "\n",
        "def timeit(tag, t):\n",
        "    print(\"{}: {}s\".format(tag, time() - t))\n",
        "    return time()\n",
        "\n",
        "def pc_normalize(pc):\n",
        "    l = pc.shape[0]\n",
        "    centroid = np.mean(pc, axis=0)\n",
        "    pc = pc - centroid\n",
        "    m = np.max(np.sqrt(np.sum(pc**2, axis=1)))\n",
        "    pc = pc / m\n",
        "    return pc\n",
        "\n",
        "def square_distance(src, dst):\n",
        "    \"\"\"\n",
        "    Calculate Euclid distance between each two points.\n",
        "\n",
        "    src^T * dst = xn * xm + yn * ym + zn * zm；\n",
        "    sum(src^2, dim=-1) = xn*xn + yn*yn + zn*zn;\n",
        "    sum(dst^2, dim=-1) = xm*xm + ym*ym + zm*zm;\n",
        "    dist = (xn - xm)^2 + (yn - ym)^2 + (zn - zm)^2\n",
        "         = sum(src**2,dim=-1)+sum(dst**2,dim=-1)-2*src^T*dst\n",
        "\n",
        "    Input:\n",
        "        src: source points, [B, N, C]\n",
        "        dst: target points, [B, M, C]\n",
        "    Output:\n",
        "        dist: per-point square distance, [B, N, M]\n",
        "    \"\"\"\n",
        "    B, N, _ = src.shape\n",
        "    _, M, _ = dst.shape\n",
        "    dist = -2 * torch.matmul(src, dst.permute(0, 2, 1))\n",
        "    dist += torch.sum(src ** 2, -1).view(B, N, 1)\n",
        "    dist += torch.sum(dst ** 2, -1).view(B, 1, M)\n",
        "    return dist\n",
        "\n",
        "\n",
        "def index_points(points, idx):\n",
        "    \"\"\"\n",
        "\n",
        "    Input:\n",
        "        points: input points data, [B, N, C]\n",
        "        idx: sample index data, [B, S]\n",
        "    Return:\n",
        "        new_points:, indexed points data, [B, S, C]\n",
        "    \"\"\"\n",
        "    device = points.device\n",
        "    B = points.shape[0]\n",
        "    view_shape = list(idx.shape)\n",
        "    view_shape[1:] = [1] * (len(view_shape) - 1)\n",
        "    repeat_shape = list(idx.shape)\n",
        "    repeat_shape[0] = 1\n",
        "    batch_indices = torch.arange(B, dtype=torch.long).to(device).view(view_shape).repeat(repeat_shape)\n",
        "    new_points = points[batch_indices, idx, :]\n",
        "    return new_points\n",
        "\n",
        "\n",
        "def farthest_point_sample(xyz, npoint):\n",
        "    \"\"\"\n",
        "    Input:\n",
        "        xyz: pointcloud data, [B, N, 3]\n",
        "        npoint: number of samples\n",
        "    Return:\n",
        "        centroids: sampled pointcloud index, [B, npoint]\n",
        "    \"\"\"\n",
        "    device = xyz.device\n",
        "    B, N, C = xyz.shape\n",
        "    centroids = torch.zeros(B, npoint, dtype=torch.long).to(device)\n",
        "    distance = torch.ones(B, N).to(device) * 1e10\n",
        "    farthest = torch.randint(0, N, (B,), dtype=torch.long).to(device)\n",
        "    batch_indices = torch.arange(B, dtype=torch.long).to(device)\n",
        "    for i in range(npoint):\n",
        "        centroids[:, i] = farthest\n",
        "        centroid = xyz[batch_indices, farthest, :].view(B, 1, 3)\n",
        "        dist = torch.sum((xyz - centroid) ** 2, -1)\n",
        "        mask = dist < distance\n",
        "        distance[mask] = dist[mask]\n",
        "        farthest = torch.max(distance, -1)[1]\n",
        "    return centroids\n",
        "\n",
        "\n",
        "def query_ball_point(radius, nsample, xyz, new_xyz):\n",
        "    \"\"\"\n",
        "    Input:\n",
        "        radius: local region radius\n",
        "        nsample: max sample number in local region\n",
        "        xyz: all points, [B, N, 3]\n",
        "        new_xyz: query points, [B, S, 3]\n",
        "    Return:\n",
        "        group_idx: grouped points index, [B, S, nsample]\n",
        "    \"\"\"\n",
        "    device = xyz.device\n",
        "    B, N, C = xyz.shape\n",
        "    _, S, _ = new_xyz.shape\n",
        "    group_idx = torch.arange(N, dtype=torch.long).to(device).view(1, 1, N).repeat([B, S, 1])\n",
        "    sqrdists = square_distance(new_xyz, xyz)\n",
        "    group_idx[sqrdists > radius ** 2] = N\n",
        "    group_idx = group_idx.sort(dim=-1)[0][:, :, :nsample]\n",
        "    group_first = group_idx[:, :, 0].view(B, S, 1).repeat([1, 1, nsample])\n",
        "\n",
        "    mask = group_idx == N\n",
        "    group_idx[mask] = group_first[mask]\n",
        "    return group_idx\n",
        "\n",
        "\n",
        "def sample_and_group(npoint, radius, nsample, xyz, points, returnfps=False):\n",
        "    \"\"\"\n",
        "    Input:\n",
        "        npoint:\n",
        "        radius:\n",
        "        nsample:\n",
        "        xyz: input points position data, [B, N, 3]\n",
        "        points: input points data, [B, N, D]\n",
        "    Return:\n",
        "        new_xyz: sampled points position data, [B, npoint, nsample, 3]\n",
        "        new_points: sampled points data, [B, npoint, nsample, 3+D]\n",
        "    \"\"\"\n",
        "    B, N, C = xyz.shape\n",
        "    S = npoint\n",
        "    fps_idx = farthest_point_sample(xyz, npoint) # [B, npoint, C]\n",
        "    new_xyz = index_points(xyz, fps_idx)\n",
        "    idx = query_ball_point(radius, nsample, xyz, new_xyz)\n",
        "    grouped_xyz = index_points(xyz, idx) # [B, npoint, nsample, C]\n",
        "    grouped_xyz_norm = grouped_xyz - new_xyz.view(B, S, 1, C)\n",
        "\n",
        "    if points is not None:\n",
        "        grouped_points = index_points(points, idx)\n",
        "        new_points = torch.cat([grouped_xyz_norm, grouped_points], dim=-1) # [B, npoint, nsample, C+D]\n",
        "    else:\n",
        "        new_points = grouped_xyz_norm\n",
        "    if returnfps:\n",
        "        return new_xyz, new_points, grouped_xyz, fps_idx\n",
        "    else:\n",
        "        return new_xyz, new_points\n",
        "\n",
        "\n",
        "def sample_and_group_all(xyz, points):\n",
        "    \"\"\"\n",
        "    Input:\n",
        "        xyz: input points position data, [B, N, 3]\n",
        "        points: input points data, [B, N, D]\n",
        "    Return:\n",
        "        new_xyz: sampled points position data, [B, 1, 3]\n",
        "        new_points: sampled points data, [B, 1, N, 3+D]\n",
        "    \"\"\"\n",
        "    device = xyz.device\n",
        "    B, N, C = xyz.shape\n",
        "    new_xyz = torch.zeros(B, 1, C).to(device)\n",
        "    grouped_xyz = xyz.view(B, 1, N, C)\n",
        "    if points is not None:\n",
        "        new_points = torch.cat([grouped_xyz, points.view(B, 1, N, -1)], dim=-1)\n",
        "    else:\n",
        "        new_points = grouped_xyz\n",
        "    return new_xyz, new_points\n",
        "\n",
        "\n",
        "class PointNetSetAbstraction(nn.Module):\n",
        "    def __init__(self, npoint, radius, nsample, in_channel, mlp, group_all):\n",
        "        super(PointNetSetAbstraction, self).__init__()\n",
        "        self.npoint = npoint\n",
        "        self.radius = radius\n",
        "        self.nsample = nsample\n",
        "        self.mlp_convs = nn.ModuleList()\n",
        "        self.mlp_bns = nn.ModuleList()\n",
        "        last_channel = in_channel\n",
        "        for out_channel in mlp:\n",
        "            self.mlp_convs.append(nn.Conv2d(last_channel, out_channel, 1))\n",
        "            self.mlp_bns.append(nn.BatchNorm2d(out_channel))\n",
        "            last_channel = out_channel\n",
        "        self.group_all = group_all\n",
        "\n",
        "    def forward(self, xyz, points):\n",
        "        \"\"\"\n",
        "        Input:\n",
        "            xyz: input points position data, [B, C, N]\n",
        "            points: input points data, [B, D, N]\n",
        "        Return:\n",
        "            new_xyz: sampled points position data, [B, C, S]\n",
        "            new_points_concat: sample points feature data, [B, D', S]\n",
        "        \"\"\"\n",
        "        xyz = xyz.permute(0, 2, 1)\n",
        "        if points is not None:\n",
        "            points = points.permute(0, 2, 1)\n",
        "\n",
        "        if self.group_all:\n",
        "            new_xyz, new_points = sample_and_group_all(xyz, points)\n",
        "        else:\n",
        "            new_xyz, new_points = sample_and_group(self.npoint, self.radius, self.nsample, xyz, points)\n",
        "        # new_xyz: sampled points position data, [B, npoint, C]\n",
        "        # new_points: sampled points data, [B, npoint, nsample, C+D]\n",
        "        new_points = new_points.permute(0, 3, 2, 1) # [B, C+D, nsample,npoint]\n",
        "        for i, conv in enumerate(self.mlp_convs):\n",
        "            bn = self.mlp_bns[i]\n",
        "            new_points =  F.relu(bn(conv(new_points)))\n",
        "\n",
        "        new_points = torch.max(new_points, 2)[0]\n",
        "        new_xyz = new_xyz.permute(0, 2, 1)\n",
        "        return new_xyz, new_points\n"
      ]
    },
    {
      "cell_type": "code",
      "execution_count": null,
      "metadata": {
        "id": "DfSw2N_1bKKx"
      },
      "outputs": [],
      "source": [
        "class get_model(nn.Module):\n",
        "    def __init__(self,num_class,normal_channel=False):\n",
        "        super(get_model, self).__init__()\n",
        "        in_channel = 6 if normal_channel else 3\n",
        "        self.normal_channel = normal_channel\n",
        "        self.sa1 = PointNetSetAbstraction(npoint=512, radius=0.2, nsample=32, in_channel=in_channel, mlp=[64, 64, 128], group_all=False)\n",
        "        self.sa2 = PointNetSetAbstraction(npoint=128, radius=0.4, nsample=64, in_channel=128 + 3, mlp=[128, 128, 256], group_all=False)\n",
        "        self.sa3 = PointNetSetAbstraction(npoint=None, radius=None, nsample=None, in_channel=256 + 3, mlp=[256, 512, 1024], group_all=True)\n",
        "        self.fc1 = nn.Linear(1024, 512)\n",
        "        self.bn1 = nn.BatchNorm1d(512)\n",
        "        self.drop1 = nn.Dropout(0.4)\n",
        "        self.fc2 = nn.Linear(512, 256)\n",
        "        self.bn2 = nn.BatchNorm1d(256)\n",
        "        self.drop2 = nn.Dropout(0.4)\n",
        "        self.fc3 = nn.Linear(256, num_class)\n",
        "\n",
        "    def forward(self, xyz):\n",
        "        B, _, _ = xyz.shape\n",
        "        if self.normal_channel:\n",
        "            norm = xyz[:, 3:, :]\n",
        "            xyz = xyz[:, :3, :]\n",
        "        else:\n",
        "            norm = None\n",
        "        l1_xyz, l1_points = self.sa1(xyz, norm)\n",
        "        l2_xyz, l2_points = self.sa2(l1_xyz, l1_points)\n",
        "        l3_xyz, l3_points = self.sa3(l2_xyz, l2_points)\n",
        "        x = l3_points.view(B, 1024)\n",
        "        x = self.drop1(F.relu(self.bn1(self.fc1(x))))\n",
        "        x = self.drop2(F.relu(self.bn2(self.fc2(x))))\n",
        "        x = self.fc3(x)\n",
        "        x = F.log_softmax(x, -1)\n",
        "\n",
        "\n",
        "        return x, l3_points\n",
        "\n",
        "\n",
        "\n",
        "class get_loss(nn.Module):\n",
        "    def __init__(self):\n",
        "        super(get_loss, self).__init__()\n",
        "\n",
        "    def forward(self, pred, target):\n",
        "        total_loss = F.nll_loss(pred, target)\n",
        "\n",
        "        return total_loss"
      ]
    },
    {
      "cell_type": "code",
      "execution_count": null,
      "metadata": {
        "id": "VXwFbEqEbMOy"
      },
      "outputs": [],
      "source": [
        "\n",
        "from torch.utils.data import DataLoader, TensorDataset\n"
      ]
    },
    {
      "cell_type": "code",
      "execution_count": null,
      "metadata": {
        "colab": {
          "base_uri": "https://localhost:8080/"
        },
        "id": "1IwFHb0QbN-v",
        "outputId": "edecb475-a30e-46af-b59f-970f2e799ced"
      },
      "outputs": [
        {
          "output_type": "execute_result",
          "data": {
            "text/plain": [
              "(465,)"
            ]
          },
          "metadata": {},
          "execution_count": 13
        }
      ],
      "source": [
        "train_labels.shape"
      ]
    },
    {
      "cell_type": "code",
      "execution_count": null,
      "metadata": {
        "id": "dq2vkYKIbPwC"
      },
      "outputs": [],
      "source": [
        "\n",
        "import numpy as np\n",
        "\n",
        "# Assuming your data is in a variable called 'data'\n",
        "# Reshape data and labels\n",
        "#train_points = np.transpose(data_train, (0, 2, 1))\n",
        "data_val = np.transpose(data_val, (0, 2, 1))\n",
        "data_val = torch.Tensor(data_val)\n",
        "labels_val = torch.LongTensor(labels_val)\n"
      ]
    },
    {
      "cell_type": "markdown",
      "metadata": {
        "id": "sipzviwuRM-Z"
      },
      "source": [
        "Data Augmentation:"
      ]
    },
    {
      "cell_type": "code",
      "execution_count": null,
      "metadata": {
        "id": "55SyON7-RMWU"
      },
      "outputs": [],
      "source": [
        "import numpy as np\n",
        "\n",
        "def random_rotation(point_cloud):\n",
        "    theta = np.random.uniform(0, 2 * np.pi)  # Random rotation angle\n",
        "    rotation_matrix = np.array([[np.cos(theta), -np.sin(theta), 0], [np.sin(theta), np.cos(theta), 0], [0, 0, 1]])\n",
        "    return np.dot(point_cloud, rotation_matrix)\n",
        "\n",
        "def random_translation(point_cloud, max_translation=0.1):\n",
        "    translation = np.random.uniform(-max_translation, max_translation, size=(1, 3))\n",
        "    return np.array(point_cloud) + np.array(translation)\n",
        "\n",
        "def random_scaling(point_cloud, min_scale=0.8, max_scale=1.2):\n",
        "    scale = np.random.uniform(min_scale, max_scale)\n",
        "    return point_cloud * scale\n",
        "\n",
        "def random_jitter(point_cloud, jitter_std=0.01):\n",
        "    jitter = np.random.normal(0, jitter_std, size=point_cloud.shape)\n",
        "    return np.array(point_cloud) + np.array(jitter)\n",
        "\n",
        "def random_sampling(point_cloud, num_points=1024):\n",
        "    if point_cloud.shape[0] > num_points:\n",
        "        idx = np.random.choice(point_cloud.shape[0], num_points, replace=False)\n",
        "        return point_cloud[idx]\n",
        "    else:\n",
        "        return point_cloud\n",
        "\n",
        "def augment_data(point_cloud, num_augmentations=10):\n",
        "    augmented_point_clouds = [point_cloud]\n",
        "\n",
        "    for _ in range(num_augmentations):\n",
        "        augmented = random_scaling(random_translation(random_rotation(random_jitter(random_sampling(point_cloud)))))\n",
        "        augmented_point_clouds.append(augmented)\n",
        "\n",
        "    return augmented_point_clouds\n",
        "\n",
        "def augment_and_reshape_data(data, labels, num_augmentations=10):\n",
        "    augmented_data = []\n",
        "    augmented_labels = []\n",
        "\n",
        "    for i in range(len(data)):\n",
        "        point_cloud = data[i]\n",
        "        augmented_point_clouds = augment_data(point_cloud, num_augmentations)\n",
        "\n",
        "        augmented_data.extend(augmented_point_clouds)\n",
        "        augmented_labels.extend([labels[i]] * (num_augmentations + 1))\n",
        "\n",
        "    augmented_data = np.array(augmented_data)\n",
        "    augmented_data = np.transpose(augmented_data, (0, 2, 1))\n",
        "\n",
        "    return augmented_data, augmented_labels\n"
      ]
    },
    {
      "cell_type": "code",
      "execution_count": null,
      "metadata": {
        "id": "vahGoHCZbTYb"
      },
      "outputs": [],
      "source": [
        "train_points,labels_train = augment_and_reshape_data(data_train, labels_train)\n",
        "# Convert NumPy arrays to PyTorch tensors\n",
        "data = torch.Tensor(train_points)\n",
        "labels = torch.LongTensor(labels_train)\n",
        "data=data.cuda()\n",
        "labels=labels.cuda()\n",
        "data = data.to(device)\n",
        "labels = labels.to(device)\n",
        "model = get_model(num_class=4)\n",
        "model.to(device)\n",
        "# Create a TensorDataset to hold your data and labels\n",
        "dataset = TensorDataset(data, labels)\n",
        "\n",
        "# Define batch size\n",
        "batch_size = 32\n",
        "\n",
        "# Create a DataLoader\n",
        "dataloader = DataLoader(dataset, batch_size=batch_size, shuffle=True)\n",
        "val_data=torch.Tensor(data_val)\n",
        "val_labels=torch.LongTensor(labels_val)\n",
        "val_data = data_val.to(device)\n",
        "val_labels = labels_val.to(device)\n",
        "val_dataset = TensorDataset(val_data,val_labels)\n",
        "val_dataloader = DataLoader(val_dataset, batch_size=batch_size, shuffle=True)\n"
      ]
    },
    {
      "cell_type": "code",
      "execution_count": null,
      "metadata": {
        "id": "BwBiFuYxGwhE"
      },
      "outputs": [],
      "source": []
    },
    {
      "cell_type": "code",
      "execution_count": null,
      "metadata": {
        "colab": {
          "base_uri": "https://localhost:8080/"
        },
        "id": "-mSper_PG0DL",
        "outputId": "4576d9bf-fa76-4c13-96eb-28449035b1e5"
      },
      "outputs": [
        {
          "output_type": "execute_result",
          "data": {
            "text/plain": [
              "(3575, 3, 400)"
            ]
          },
          "metadata": {},
          "execution_count": 17
        }
      ],
      "source": [
        "train_points.shape"
      ]
    },
    {
      "cell_type": "code",
      "execution_count": null,
      "metadata": {
        "id": "YblpO8GByz4m"
      },
      "outputs": [],
      "source": [
        "from sklearn.metrics import accuracy_score,precision_score, recall_score, f1_score, roc_auc_score, roc_curve,confusion_matrix"
      ]
    },
    {
      "cell_type": "code",
      "execution_count": null,
      "metadata": {
        "id": "DLH_T-sTy0gw"
      },
      "outputs": [],
      "source": [
        "def calculate_metrics(model, data_loader):\n",
        "    model.eval()\n",
        "    all_preds = []\n",
        "    all_labels = []\n",
        "\n",
        "    with torch.no_grad():\n",
        "        for batch_data, batch_labels in data_loader:\n",
        "            output, _ = model(batch_data)\n",
        "            preds = output.argmax(dim=1)\n",
        "            all_preds.extend(preds.cpu().numpy())\n",
        "            all_labels.extend(batch_labels.cpu().numpy())\n",
        "\n",
        "    accuracy = accuracy_score(all_labels, all_preds)\n",
        "    precision = precision_score(all_labels, all_preds)\n",
        "    recall = recall_score(all_labels, all_preds)\n",
        "    f1 = f1_score(all_labels, all_preds)\n",
        "    all_probs = output.cpu().numpy()\n",
        "    auc = roc_auc_score(all_labels, all_probs[:, 1])\n",
        "    return accuracy,precision, recall, f1, auc\n"
      ]
    },
    {
      "cell_type": "code",
      "execution_count": null,
      "metadata": {
        "id": "Y8MpsEb3y3UU"
      },
      "outputs": [],
      "source": []
    },
    {
      "cell_type": "code",
      "execution_count": null,
      "metadata": {
        "colab": {
          "base_uri": "https://localhost:8080/"
        },
        "id": "t8RUwqnCcCFG",
        "outputId": "b752ace4-1af4-454c-825c-b2b585a1a5f7"
      },
      "outputs": [
        {
          "output_type": "stream",
          "name": "stdout",
          "text": [
            "Epoch 1, Training Loss: 0.6714634118335587\n",
            "Epoch 1, Validation Loss: 0.8992243528366088, Accuracy: 0.6571428571428571\n",
            "Epoch 2, Training Loss: 0.3785089669483049\n",
            "Epoch 2, Validation Loss: 0.5775479555130005, Accuracy: 0.7642857142857142\n",
            "Epoch 3, Training Loss: 0.2700046256982854\n",
            "Epoch 3, Validation Loss: 0.7082647442817688, Accuracy: 0.7642857142857142\n",
            "Epoch 4, Training Loss: 0.21749995928257704\n",
            "Epoch 4, Validation Loss: 0.4157355934381485, Accuracy: 0.85\n",
            "Epoch 5, Training Loss: 0.19220389708477473\n",
            "Epoch 5, Validation Loss: 0.5260489463806153, Accuracy: 0.8642857142857143\n",
            "Epoch 6, Training Loss: 0.13009993250515045\n",
            "Epoch 6, Validation Loss: 0.5076460093259811, Accuracy: 0.85\n",
            "Epoch 7, Training Loss: 0.06761248685818698\n",
            "Epoch 7, Validation Loss: 0.6047995418310166, Accuracy: 0.8571428571428571\n",
            "Epoch 8, Training Loss: 0.05407088155958003\n",
            "Epoch 8, Validation Loss: 0.688527649641037, Accuracy: 0.8214285714285714\n",
            "Epoch 9, Training Loss: 0.052758707569280104\n",
            "Epoch 9, Validation Loss: 0.5109076142311096, Accuracy: 0.8714285714285714\n",
            "Epoch 10, Training Loss: 0.05951268492831981\n",
            "Epoch 10, Validation Loss: 0.9056123077869416, Accuracy: 0.8071428571428572\n",
            "Epoch 11, Training Loss: 0.03618080267291849\n",
            "Epoch 11, Validation Loss: 0.7279519855976104, Accuracy: 0.8285714285714286\n",
            "Epoch 12, Training Loss: 0.019620690123701934\n",
            "Epoch 12, Validation Loss: 0.6424682170152665, Accuracy: 0.8357142857142857\n",
            "Epoch 13, Training Loss: 0.015635828699617247\n",
            "Epoch 13, Validation Loss: 0.813925564289093, Accuracy: 0.8357142857142857\n",
            "Epoch 14, Training Loss: 0.008828859920738199\n",
            "Epoch 14, Validation Loss: 0.7527477622032166, Accuracy: 0.8357142857142857\n",
            "Epoch 15, Training Loss: 0.006196069935997782\n",
            "Epoch 15, Validation Loss: 0.7374526739120484, Accuracy: 0.8428571428571429\n",
            "Epoch 16, Training Loss: 0.008798816273026335\n",
            "Epoch 16, Validation Loss: 0.6964013993740081, Accuracy: 0.8642857142857143\n",
            "Epoch 17, Training Loss: 0.0048896577443104305\n",
            "Epoch 17, Validation Loss: 0.8244198739528656, Accuracy: 0.8571428571428571\n",
            "Epoch 18, Training Loss: 0.0046538915022600645\n",
            "Epoch 18, Validation Loss: 0.7933234214782715, Accuracy: 0.8571428571428571\n",
            "Epoch 19, Training Loss: 0.0067961602128759424\n",
            "Epoch 19, Validation Loss: 0.6845812039449811, Accuracy: 0.8571428571428571\n",
            "Epoch 20, Training Loss: 0.0067075084654269245\n",
            "Epoch 20, Validation Loss: 0.7549739204347133, Accuracy: 0.85\n",
            "Training complete\n"
          ]
        }
      ],
      "source": [
        "# # Initialize your model and loss function\n",
        "\n",
        "loss_fn = get_loss()\n",
        "optimizer = torch.optim.Adam(model.parameters(), lr=0.001,weight_decay=1e-4)\n",
        "scheduler = torch.optim.lr_scheduler.StepLR(optimizer, step_size=5, gamma=0.5)\n",
        "num_epochs = 20  # Increase the number of epochs\n",
        "best_accuracy = 0.0\n",
        "train_loss_history = []\n",
        "val_loss_history = []\n",
        "accuracy_history = []\n",
        "for epoch in range(num_epochs):\n",
        "    # Training loop\n",
        "    total_loss = 0.0\n",
        "    model.train()\n",
        "    for batch_data, batch_labels in dataloader:\n",
        "        optimizer.zero_grad()\n",
        "        output, _ = model(batch_data)\n",
        "        loss = loss_fn(output, batch_labels)\n",
        "        loss.backward()\n",
        "        optimizer.step()\n",
        "        total_loss += loss.item()\n",
        "\n",
        "    print(f\"Epoch {epoch + 1}, Training Loss: {total_loss / len(dataloader)}\")\n",
        "\n",
        "    # Validation loop\n",
        "    total_val_loss = 0.0\n",
        "    model.eval()\n",
        "    all_preds = []\n",
        "    all_labels = []\n",
        "    with torch.no_grad():\n",
        "        for batch_data, batch_labels in val_dataloader:\n",
        "            output, _ = model(batch_data)\n",
        "            val_loss = loss_fn(output, batch_labels)\n",
        "            total_val_loss += val_loss.item()\n",
        "\n",
        "            preds = output.argmax(dim=1).cpu().numpy()\n",
        "            labels = batch_labels.cpu().numpy()\n",
        "            all_preds.extend(preds)\n",
        "            all_labels.extend(labels)\n",
        "\n",
        "    accuracy = accuracy_score(all_labels, all_preds)\n",
        "    print(f\"Epoch {epoch + 1}, Validation Loss: {total_val_loss / len(val_dataloader)}, Accuracy: {accuracy}\")\n",
        "\n",
        "    # Update the learning rate using the scheduler\n",
        "    scheduler.step()\n",
        "    train_loss_history.append(total_loss / len(dataloader))\n",
        "    val_loss_history.append(total_val_loss / len(val_dataloader))\n",
        "    accuracy_history.append(accuracy)\n",
        "\n",
        "    # Save the model with the best validation accuracy\n",
        "    if accuracy > best_accuracy:\n",
        "        best_accuracy = accuracy\n",
        "        torch.save(model.state_dict(), 'best_model.pth')\n",
        "\n",
        "print(\"Training complete\")\n"
      ]
    },
    {
      "cell_type": "code",
      "execution_count": null,
      "metadata": {
        "id": "BxKhcqF3nSU_",
        "colab": {
          "base_uri": "https://localhost:8080/",
          "height": 507
        },
        "outputId": "c8422001-ca99-4fc4-f885-fad4cee1f681"
      },
      "outputs": [
        {
          "output_type": "display_data",
          "data": {
            "text/plain": [
              "<Figure size 1000x500 with 2 Axes>"
            ],
            "image/png": "[encoded data removed]"
          },
          "metadata": {}
        }
      ],
      "source": [
        "plt.figure(figsize=(10, 5))\n",
        "plt.subplot(1, 2, 1)\n",
        "plt.plot(range(1, num_epochs + 1), accuracy_history, label='Accuracy', marker='o')\n",
        "plt.xlabel('Epoch')\n",
        "plt.ylabel('Accuracy')\n",
        "plt.title('Accuracy Over Epochs')\n",
        "plt.grid()\n",
        "plt.legend()\n",
        "plt.subplot(1, 2, 2)\n",
        "plt.plot(range(1, num_epochs + 1), train_loss_history, label='Train Loss', marker='o')\n",
        "plt.plot(range(1, num_epochs + 1), val_loss_history, label='Validation Loss', marker='o')\n",
        "plt.xlabel('Epoch')\n",
        "plt.ylabel('Loss')\n",
        "plt.title('Loss Over Epochs')\n",
        "plt.grid()\n",
        "plt.legend()\n",
        "\n",
        "plt.tight_layout()\n",
        "plt.show()\n",
        "\n",
        "\n",
        "\n",
        "\n",
        "\n",
        "\n"
      ]
    },
    {
      "cell_type": "code",
      "execution_count": null,
      "metadata": {
        "id": "kF2rM000nT8U"
      },
      "outputs": [],
      "source": []
    },
    {
      "cell_type": "code",
      "execution_count": null,
      "metadata": {
        "id": "pdO2vGcecJnZ",
        "colab": {
          "base_uri": "https://localhost:8080/"
        },
        "outputId": "c025207d-a23d-448e-b317-c523154a710d"
      },
      "outputs": [
        {
          "output_type": "execute_result",
          "data": {
            "text/plain": [
              "get_model(\n",
              "  (sa1): PointNetSetAbstraction(\n",
              "    (mlp_convs): ModuleList(\n",
              "      (0): Conv2d(3, 64, kernel_size=(1, 1), stride=(1, 1))\n",
              "      (1): Conv2d(64, 64, kernel_size=(1, 1), stride=(1, 1))\n",
              "      (2): Conv2d(64, 128, kernel_size=(1, 1), stride=(1, 1))\n",
              "    )\n",
              "    (mlp_bns): ModuleList(\n",
              "      (0-1): 2 x BatchNorm2d(64, eps=1e-05, momentum=0.1, affine=True, track_running_stats=True)\n",
              "      (2): BatchNorm2d(128, eps=1e-05, momentum=0.1, affine=True, track_running_stats=True)\n",
              "    )\n",
              "  )\n",
              "  (sa2): PointNetSetAbstraction(\n",
              "    (mlp_convs): ModuleList(\n",
              "      (0): Conv2d(131, 128, kernel_size=(1, 1), stride=(1, 1))\n",
              "      (1): Conv2d(128, 128, kernel_size=(1, 1), stride=(1, 1))\n",
              "      (2): Conv2d(128, 256, kernel_size=(1, 1), stride=(1, 1))\n",
              "    )\n",
              "    (mlp_bns): ModuleList(\n",
              "      (0-1): 2 x BatchNorm2d(128, eps=1e-05, momentum=0.1, affine=True, track_running_stats=True)\n",
              "      (2): BatchNorm2d(256, eps=1e-05, momentum=0.1, affine=True, track_running_stats=True)\n",
              "    )\n",
              "  )\n",
              "  (sa3): PointNetSetAbstraction(\n",
              "    (mlp_convs): ModuleList(\n",
              "      (0): Conv2d(259, 256, kernel_size=(1, 1), stride=(1, 1))\n",
              "      (1): Conv2d(256, 512, kernel_size=(1, 1), stride=(1, 1))\n",
              "      (2): Conv2d(512, 1024, kernel_size=(1, 1), stride=(1, 1))\n",
              "    )\n",
              "    (mlp_bns): ModuleList(\n",
              "      (0): BatchNorm2d(256, eps=1e-05, momentum=0.1, affine=True, track_running_stats=True)\n",
              "      (1): BatchNorm2d(512, eps=1e-05, momentum=0.1, affine=True, track_running_stats=True)\n",
              "      (2): BatchNorm2d(1024, eps=1e-05, momentum=0.1, affine=True, track_running_stats=True)\n",
              "    )\n",
              "  )\n",
              "  (fc1): Linear(in_features=1024, out_features=512, bias=True)\n",
              "  (bn1): BatchNorm1d(512, eps=1e-05, momentum=0.1, affine=True, track_running_stats=True)\n",
              "  (drop1): Dropout(p=0.4, inplace=False)\n",
              "  (fc2): Linear(in_features=512, out_features=256, bias=True)\n",
              "  (bn2): BatchNorm1d(256, eps=1e-05, momentum=0.1, affine=True, track_running_stats=True)\n",
              "  (drop2): Dropout(p=0.4, inplace=False)\n",
              "  (fc3): Linear(in_features=256, out_features=4, bias=True)\n",
              ")"
            ]
          },
          "metadata": {},
          "execution_count": 22
        }
      ],
      "source": [
        "model = get_model(num_class=4)\n",
        "model.load_state_dict(torch.load('best_model.pth'))\n",
        "model.to(device)"
      ]
    },
    {
      "cell_type": "markdown",
      "metadata": {
        "id": "MNLJFgydwX-e"
      },
      "source": [
        "TEST:"
      ]
    },
    {
      "cell_type": "code",
      "execution_count": null,
      "metadata": {
        "id": "7J6doSjehzmb"
      },
      "outputs": [],
      "source": [
        "model.eval()\n",
        "test_points = test_points\n",
        "test_labels =test_labels\n"
      ]
    },
    {
      "cell_type": "code",
      "execution_count": null,
      "metadata": {
        "id": "iHhKFY8ok0dp"
      },
      "outputs": [],
      "source": [
        "test_points=np.array(test_points)\n",
        "test_labels=np.array(test_labels)"
      ]
    },
    {
      "cell_type": "code",
      "execution_count": null,
      "metadata": {
        "id": "mYiX2PmttHkJ"
      },
      "outputs": [],
      "source": [
        "test_points = np.transpose(test_points, (0, 2, 1))"
      ]
    },
    {
      "cell_type": "code",
      "execution_count": null,
      "metadata": {
        "id": "PgcTXHZguAwY"
      },
      "outputs": [],
      "source": [
        "data_test = torch.Tensor(test_points)\n",
        "labels_test = torch.LongTensor(test_labels)\n",
        "data_test = data_test.to(device)\n",
        "labels_test = labels_test.to(device)\n",
        "data_test=data_test.cuda()\n",
        "labels_test=labels_test.cuda()\n",
        "# Create a TensorDataset to hold your data and labels\n",
        "dataset_test = TensorDataset(data_test, labels_test)\n",
        "\n",
        "# Define batch size\n",
        "batch_size = 32\n",
        "\n",
        "# Create a DataLoader\n",
        "dataloader_test = DataLoader(dataset_test, batch_size=batch_size, shuffle=True)"
      ]
    },
    {
      "cell_type": "code",
      "execution_count": null,
      "metadata": {
        "id": "S_rPb9fRuoRG",
        "colab": {
          "base_uri": "https://localhost:8080/"
        },
        "outputId": "bb4d7109-c6cd-439d-ed72-cb3f35583006"
      },
      "outputs": [
        {
          "output_type": "stream",
          "name": "stdout",
          "text": [
            " Testing Loss: 0.7407627776265144, Accuracy: 0.8461538461538461\n",
            "Precision: 0.8411680911680912\n",
            "Recall: 0.8461538461538461\n",
            "F1 Score: 0.8423251252073213\n",
            "Sensitivity: 0.9090909090909091\n",
            "Specificity: 0.95\n",
            "confusion matrix [[19  1  1  0]\n",
            " [ 2 20  0  2]\n",
            " [ 0  3 27  1]\n",
            " [ 1  9  1 53]]\n"
          ]
        }
      ],
      "source": [
        "tot_test_loss = 0.0\n",
        "preds = []\n",
        "labs = []\n",
        "\n",
        "with torch.no_grad():\n",
        "    for batch_data, batch_labels in dataloader_test:\n",
        "        output, _ = model(batch_data)\n",
        "        test_loss = loss_fn(output, batch_labels)\n",
        "        tot_test_loss += test_loss.item()\n",
        "\n",
        "        pred = output.argmax(dim=1).cpu().numpy()\n",
        "        label = batch_labels.cpu().numpy()\n",
        "        preds.extend(pred)\n",
        "        labs.extend(label)\n",
        "\n",
        "accuracys = accuracy_score(labs, preds)\n",
        "precision = precision_score(labs, preds,average='weighted')\n",
        "recall = recall_score(labs, preds,average='weighted')\n",
        "f1 = f1_score(labs, preds,average='weighted')\n",
        "cm = confusion_matrix(all_labels, all_preds)\n",
        "sensitivity = cm[1, 1] / (cm[1, 0] + cm[1, 1])\n",
        "specificity = cm[0, 0] / (cm[0, 0] + cm[0, 1])\n",
        "print(f\" Testing Loss: {tot_test_loss / len(dataloader_test)}, Accuracy: {accuracys}\")\n",
        "print(\"Precision:\", precision)\n",
        "print(\"Recall:\", recall)\n",
        "print(\"F1 Score:\", f1)\n",
        "print(\"Sensitivity:\", sensitivity)\n",
        "print(\"Specificity:\", specificity)\n",
        "print(\"confusion matrix\",cm)"
      ]
    },
    {
      "cell_type": "code",
      "execution_count": null,
      "metadata": {
        "id": "BpcFyAlhvNIs"
      },
      "outputs": [],
      "source": [
        "np.save('train.npy',train_points)"
      ]
    },
    {
      "cell_type": "code",
      "source": [
        "np.save('train_labels.npy',train_labels)"
      ],
      "metadata": {
        "id": "yS2UPpPBQKbp"
      },
      "execution_count": null,
      "outputs": []
    },
    {
      "cell_type": "code",
      "source": [
        "np.save('test.npy',test_points)"
      ],
      "metadata": {
        "id": "bsof8mjWQUk9"
      },
      "execution_count": null,
      "outputs": []
    },
    {
      "cell_type": "code",
      "source": [
        "np.save('test_labels.npy',test_labels)"
      ],
      "metadata": {
        "id": "lqJIq8NyQfAS"
      },
      "execution_count": null,
      "outputs": []
    },
    {
      "cell_type": "code",
      "source": [],
      "metadata": {
        "id": "8VG7vNO_QilL"
      },
      "execution_count": null,
      "outputs": []
    }
  ],
  "metadata": {
    "accelerator": "GPU",
    "colab": {
      "provenance": []
    },
    "kernelspec": {
      "display_name": "Python 3",
      "name": "python3"
    },
    "language_info": {
      "name": "python"
    }
  },
  "nbformat": 4,
  "nbformat_minor": 0
}